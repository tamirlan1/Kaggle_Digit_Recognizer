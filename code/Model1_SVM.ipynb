{
 "cells": [
  {
   "cell_type": "markdown",
   "metadata": {
    "_cell_guid": "00b63778-674d-0a2d-e5b0-8956c5ce1770",
    "_uuid": "6c22c5b606800391770e5e1af0ace9dc0a161e26"
   },
   "source": [
    "## Introduction\n",
    "###Let me start by saying, this is not the best way to classify digits! This notebook is rather meant to be for someone who might not know where to start. As an ml beginner myself, I find it helpful to play with these sorts of commented kernels. Any suggestions for improvement or comments on poor coding practices are appreciated!"
   ]
  },
  {
   "cell_type": "code",
   "execution_count": 1,
   "metadata": {
    "_cell_guid": "d0abbfc5-e04e-98d3-8c5c-37d114daa804",
    "_uuid": "39af82618bea7d2a3fad5fb275c159f6d5d6ca7c",
    "collapsed": true
   },
   "outputs": [],
   "source": [
    "import pandas as pd\n",
    "import matplotlib.pyplot as plt, matplotlib.image as mpimg\n",
    "from sklearn.model_selection import train_test_split\n",
    "from sklearn import svm\n",
    "%matplotlib inline"
   ]
  },
  {
   "cell_type": "markdown",
   "metadata": {
    "_cell_guid": "11f567ca-77d0-2c41-bbc9-a60396caacea",
    "_uuid": "53cc7a0120097a716c10bbd9a6deb992600a1b6a"
   },
   "source": [
    "## Loading the data\n",
    "- We use panda's [read_csv][1]  to read train.csv into a [dataframe][2].\n",
    "- Then we separate our images and labels for supervised learning. \n",
    "- We also do a [train_test_split][3] to break our data into two sets, one for training and one for testing. This let's us measure how well our model was trained by later inputting some known test data.\n",
    "\n",
    "### For the sake of time, we're only using 5000 images. You should increase or decrease this number to see how it affects model training.\n",
    "\n",
    "\n",
    "  [1]: http://pandas.pydata.org/pandas-docs/stable/generated/pandas.read_csv.html\n",
    "  [2]: http://pandas.pydata.org/pandas-docs/stable/generated/pandas.DataFrame.html#pandas.DataFrame\n",
    "  [3]: http://scikit-learn.org/stable/modules/generated/sklearn.model_selection.train_test_split.html"
   ]
  },
  {
   "cell_type": "code",
   "execution_count": 2,
   "metadata": {
    "_cell_guid": "e8c0e206-f504-253f-8ac6-2c50eff06b58",
    "_uuid": "655c390c2b2d32cc51f7c9b9261232d220cb03b7",
    "collapsed": true
   },
   "outputs": [],
   "source": [
    "labeled_images = pd.read_csv('../input/train.csv')\n",
    "images = labeled_images.iloc[:,1:]#0:5000\n",
    "labels = labeled_images.iloc[:,:1]#0:5000\n",
    "train_images, test_images,train_labels, test_labels = train_test_split(images, labels, train_size=0.8, random_state=0)"
   ]
  },
  {
   "cell_type": "code",
   "execution_count": 3,
   "metadata": {},
   "outputs": [
    {
     "data": {
      "text/plain": [
       "(33600, 784)"
      ]
     },
     "execution_count": 3,
     "metadata": {},
     "output_type": "execute_result"
    }
   ],
   "source": [
    "train_images.shape"
   ]
  },
  {
   "cell_type": "code",
   "execution_count": 4,
   "metadata": {},
   "outputs": [
    {
     "data": {
      "text/html": [
       "<div>\n",
       "<style>\n",
       "    .dataframe thead tr:only-child th {\n",
       "        text-align: right;\n",
       "    }\n",
       "\n",
       "    .dataframe thead th {\n",
       "        text-align: left;\n",
       "    }\n",
       "\n",
       "    .dataframe tbody tr th {\n",
       "        vertical-align: top;\n",
       "    }\n",
       "</style>\n",
       "<table border=\"1\" class=\"dataframe\">\n",
       "  <thead>\n",
       "    <tr style=\"text-align: right;\">\n",
       "      <th></th>\n",
       "      <th>pixel0</th>\n",
       "      <th>pixel1</th>\n",
       "      <th>pixel2</th>\n",
       "      <th>pixel3</th>\n",
       "      <th>pixel4</th>\n",
       "      <th>pixel5</th>\n",
       "      <th>pixel6</th>\n",
       "      <th>pixel7</th>\n",
       "      <th>pixel8</th>\n",
       "      <th>pixel9</th>\n",
       "      <th>...</th>\n",
       "      <th>pixel774</th>\n",
       "      <th>pixel775</th>\n",
       "      <th>pixel776</th>\n",
       "      <th>pixel777</th>\n",
       "      <th>pixel778</th>\n",
       "      <th>pixel779</th>\n",
       "      <th>pixel780</th>\n",
       "      <th>pixel781</th>\n",
       "      <th>pixel782</th>\n",
       "      <th>pixel783</th>\n",
       "    </tr>\n",
       "  </thead>\n",
       "  <tbody>\n",
       "    <tr>\n",
       "      <th>39317</th>\n",
       "      <td>0</td>\n",
       "      <td>0</td>\n",
       "      <td>0</td>\n",
       "      <td>0</td>\n",
       "      <td>0</td>\n",
       "      <td>0</td>\n",
       "      <td>0</td>\n",
       "      <td>0</td>\n",
       "      <td>0</td>\n",
       "      <td>0</td>\n",
       "      <td>...</td>\n",
       "      <td>0</td>\n",
       "      <td>0</td>\n",
       "      <td>0</td>\n",
       "      <td>0</td>\n",
       "      <td>0</td>\n",
       "      <td>0</td>\n",
       "      <td>0</td>\n",
       "      <td>0</td>\n",
       "      <td>0</td>\n",
       "      <td>0</td>\n",
       "    </tr>\n",
       "    <tr>\n",
       "      <th>32837</th>\n",
       "      <td>0</td>\n",
       "      <td>0</td>\n",
       "      <td>0</td>\n",
       "      <td>0</td>\n",
       "      <td>0</td>\n",
       "      <td>0</td>\n",
       "      <td>0</td>\n",
       "      <td>0</td>\n",
       "      <td>0</td>\n",
       "      <td>0</td>\n",
       "      <td>...</td>\n",
       "      <td>0</td>\n",
       "      <td>0</td>\n",
       "      <td>0</td>\n",
       "      <td>0</td>\n",
       "      <td>0</td>\n",
       "      <td>0</td>\n",
       "      <td>0</td>\n",
       "      <td>0</td>\n",
       "      <td>0</td>\n",
       "      <td>0</td>\n",
       "    </tr>\n",
       "    <tr>\n",
       "      <th>16644</th>\n",
       "      <td>0</td>\n",
       "      <td>0</td>\n",
       "      <td>0</td>\n",
       "      <td>0</td>\n",
       "      <td>0</td>\n",
       "      <td>0</td>\n",
       "      <td>0</td>\n",
       "      <td>0</td>\n",
       "      <td>0</td>\n",
       "      <td>0</td>\n",
       "      <td>...</td>\n",
       "      <td>0</td>\n",
       "      <td>0</td>\n",
       "      <td>0</td>\n",
       "      <td>0</td>\n",
       "      <td>0</td>\n",
       "      <td>0</td>\n",
       "      <td>0</td>\n",
       "      <td>0</td>\n",
       "      <td>0</td>\n",
       "      <td>0</td>\n",
       "    </tr>\n",
       "    <tr>\n",
       "      <th>20005</th>\n",
       "      <td>0</td>\n",
       "      <td>0</td>\n",
       "      <td>0</td>\n",
       "      <td>0</td>\n",
       "      <td>0</td>\n",
       "      <td>0</td>\n",
       "      <td>0</td>\n",
       "      <td>0</td>\n",
       "      <td>0</td>\n",
       "      <td>0</td>\n",
       "      <td>...</td>\n",
       "      <td>0</td>\n",
       "      <td>0</td>\n",
       "      <td>0</td>\n",
       "      <td>0</td>\n",
       "      <td>0</td>\n",
       "      <td>0</td>\n",
       "      <td>0</td>\n",
       "      <td>0</td>\n",
       "      <td>0</td>\n",
       "      <td>0</td>\n",
       "    </tr>\n",
       "    <tr>\n",
       "      <th>1533</th>\n",
       "      <td>0</td>\n",
       "      <td>0</td>\n",
       "      <td>0</td>\n",
       "      <td>0</td>\n",
       "      <td>0</td>\n",
       "      <td>0</td>\n",
       "      <td>0</td>\n",
       "      <td>0</td>\n",
       "      <td>0</td>\n",
       "      <td>0</td>\n",
       "      <td>...</td>\n",
       "      <td>0</td>\n",
       "      <td>0</td>\n",
       "      <td>0</td>\n",
       "      <td>0</td>\n",
       "      <td>0</td>\n",
       "      <td>0</td>\n",
       "      <td>0</td>\n",
       "      <td>0</td>\n",
       "      <td>0</td>\n",
       "      <td>0</td>\n",
       "    </tr>\n",
       "  </tbody>\n",
       "</table>\n",
       "<p>5 rows × 784 columns</p>\n",
       "</div>"
      ],
      "text/plain": [
       "       pixel0  pixel1  pixel2  pixel3  pixel4  pixel5  pixel6  pixel7  pixel8  \\\n",
       "39317       0       0       0       0       0       0       0       0       0   \n",
       "32837       0       0       0       0       0       0       0       0       0   \n",
       "16644       0       0       0       0       0       0       0       0       0   \n",
       "20005       0       0       0       0       0       0       0       0       0   \n",
       "1533        0       0       0       0       0       0       0       0       0   \n",
       "\n",
       "       pixel9    ...     pixel774  pixel775  pixel776  pixel777  pixel778  \\\n",
       "39317       0    ...            0         0         0         0         0   \n",
       "32837       0    ...            0         0         0         0         0   \n",
       "16644       0    ...            0         0         0         0         0   \n",
       "20005       0    ...            0         0         0         0         0   \n",
       "1533        0    ...            0         0         0         0         0   \n",
       "\n",
       "       pixel779  pixel780  pixel781  pixel782  pixel783  \n",
       "39317         0         0         0         0         0  \n",
       "32837         0         0         0         0         0  \n",
       "16644         0         0         0         0         0  \n",
       "20005         0         0         0         0         0  \n",
       "1533          0         0         0         0         0  \n",
       "\n",
       "[5 rows x 784 columns]"
      ]
     },
     "execution_count": 4,
     "metadata": {},
     "output_type": "execute_result"
    }
   ],
   "source": [
    "train_images.head()"
   ]
  },
  {
   "cell_type": "markdown",
   "metadata": {
    "_cell_guid": "caa9e676-3656-5509-0aa4-a503437f727f",
    "_uuid": "2e1842fe9bba48b85870e5a8e9d6e33f6fcfd4a0"
   },
   "source": [
    "## Viewing an Image\n",
    "- Since the image is currently one-dimension, we load it into a [numpy array][1] and [reshape][2] it so that it is two-dimensional (28x28 pixels)\n",
    "- Then, we plot the image and label with matplotlib\n",
    "\n",
    "### You can change the value of variable <i>i</i> to check out other images and labels.\n",
    "\n",
    "\n",
    "  [1]: https://docs.scipy.org/doc/numpy/reference/generated/numpy.array.html\n",
    "  [2]: https://docs.scipy.org/doc/numpy/reference/generated/numpy.reshape.html"
   ]
  },
  {
   "cell_type": "code",
   "execution_count": 5,
   "metadata": {
    "_cell_guid": "dc43b65b-d3d9-8208-e7a2-88c2535b506f",
    "_uuid": "98c6714ccaff665cc8a236e30c4efbe3e7f20192"
   },
   "outputs": [
    {
     "data": {
      "text/plain": [
       "<matplotlib.text.Text at 0x114765210>"
      ]
     },
     "execution_count": 5,
     "metadata": {},
     "output_type": "execute_result"
    },
    {
     "data": {
      "image/png": "[encoded data removed]",
      "text/plain": [
       "<matplotlib.figure.Figure at 0x109b7b3d0>"
      ]
     },
     "metadata": {},
     "output_type": "display_data"
    }
   ],
   "source": [
    "i=71\n",
    "img=train_images.iloc[i].as_matrix()\n",
    "img=img.reshape((28,28))\n",
    "plt.imshow(img,cmap='gray')\n",
    "plt.title(train_labels.iloc[i,0])"
   ]
  },
  {
   "cell_type": "markdown",
   "metadata": {
    "_cell_guid": "42a5a5bd-83be-7116-7cd5-20cbc8336417",
    "_uuid": "cacdece99f0a26db3c966a5cb7c7c9e9a6e7a845"
   },
   "source": [
    "## Examining the Pixel Values\n",
    "### Note that these images aren't actually black and white (0,1). They are gray-scale (0-255). \n",
    "- A [histogram][1] of this image's pixel values shows the range.\n",
    "\n",
    "\n",
    "  [1]: http://matplotlib.org/api/pyplot_api.html#matplotlib.pyplot.hist"
   ]
  },
  {
   "cell_type": "code",
   "execution_count": 6,
   "metadata": {
    "_cell_guid": "b6143ae2-eb4e-a4af-aad3-37fa85b657b7",
    "_uuid": "ef4a37a281f91dc4e17ba2f76b14c9b6d8f8c09c"
   },
   "outputs": [
    {
     "data": {
      "text/plain": [
       "(array([ 651.,   13.,   14.,   11.,   13.,    8.,    9.,   10.,   20.,   35.]),\n",
       " array([   0. ,   25.5,   51. ,   76.5,  102. ,  127.5,  153. ,  178.5,\n",
       "         204. ,  229.5,  255. ]),\n",
       " <a list of 10 Patch objects>)"
      ]
     },
     "execution_count": 6,
     "metadata": {},
     "output_type": "execute_result"
    },
    {
     "data": {
      "image/png": "[encoded data removed]",
      "text/plain": [
       "<matplotlib.figure.Figure at 0x114684e90>"
      ]
     },
     "metadata": {},
     "output_type": "display_data"
    }
   ],
   "source": [
    "plt.hist(train_images.iloc[i])"
   ]
  },
  {
   "cell_type": "markdown",
   "metadata": {
    "_cell_guid": "b7f8578b-9985-4ccc-eab5-82465d7cad8b",
    "_uuid": "5212706d741a224030f55a669a4ebd221b479027"
   },
   "source": [
    "## Training our model\n",
    "- First, we use the [sklearn.svm][1] module to create a [vector classifier][2]. \n",
    "- Next, we pass our training images and labels to the classifier's [fit][3] method, which trains our model. \n",
    "- Finally, the test images and labels are passed to the [score][4] method to see how well we trained our model. Fit will return a float between 0-1 indicating our accuracy on the test data set\n",
    "\n",
    "### Try playing with the parameters of svm.SVC to see how the results change. \n",
    "\n",
    "\n",
    "  [1]: http://scikit-learn.org/stable/modules/svm.html\n",
    "  [2]: http://scikit-learn.org/stable/modules/generated/sklearn.svm.SVC.html\n",
    "  [3]: http://scikit-learn.org/stable/modules/generated/sklearn.svm.SVC.html#sklearn.svm.SVC.fit\n",
    "  [4]: http://scikit-learn.org/stable/modules/generated/sklearn.svm.SVC.html#sklearn.svm.SVC.score\n",
    "  [5]: http://scikit-learn.org/stable/modules/generated/sklearn.svm.SVC.html#sklearn.svm.SVC.score"
   ]
  },
  {
   "cell_type": "code",
   "execution_count": null,
   "metadata": {
    "_cell_guid": "e35c02d7-4510-3202-a7b4-fb3accde0c5a",
    "_uuid": "8a6f6d70ac7522913a93c408c4d9ffd2c4cd3108",
    "collapsed": true
   },
   "outputs": [],
   "source": [
    "clf = svm.SVC()\n",
    "clf.fit(train_images, train_labels.values.ravel())\n",
    "clf.score(test_images,test_labels)"
   ]
  },
  {
   "cell_type": "markdown",
   "metadata": {
    "_cell_guid": "61729c3a-fc18-d204-1e72-a453af1ff0a3",
    "_uuid": "fb7f0797a49b7182aaef186e7fdaa41c60b58ab4"
   },
   "source": [
    "## How did our model do?\n",
    "### You should have gotten around 0.10, or 10% accuracy. This is terrible. 10% accuracy is what get if you randomly guess a number. There are many ways to improve this, including not using a vector classifier, but here's a simple one to start. Let's just simplify our images by making them true black and white.\n",
    "\n",
    "- To make this easy, any pixel with a value simply becomes 1 and everything else remains 0.\n",
    "- We'll plot the same image again to see how it looks now that it's black and white. Look at the histogram now."
   ]
  },
  {
   "cell_type": "code",
   "execution_count": 7,
   "metadata": {
    "_cell_guid": "b5f3a212-b832-55af-d228-9b1931dcbc32",
    "_uuid": "6f81791848cf869cf5cbeaf997dff8b6240d23ac"
   },
   "outputs": [
    {
     "name": "stderr",
     "output_type": "stream",
     "text": [
      "/Users/tamirlan/anaconda2/lib/python2.7/site-packages/ipykernel_launcher.py:1: SettingWithCopyWarning: \n",
      "A value is trying to be set on a copy of a slice from a DataFrame.\n",
      "Try using .loc[row_indexer,col_indexer] = value instead\n",
      "\n",
      "See the caveats in the documentation: http://pandas.pydata.org/pandas-docs/stable/indexing.html#indexing-view-versus-copy\n",
      "  \"\"\"Entry point for launching an IPython kernel.\n",
      "/Users/tamirlan/anaconda2/lib/python2.7/site-packages/pandas/core/frame.py:2464: SettingWithCopyWarning: \n",
      "A value is trying to be set on a copy of a slice from a DataFrame\n",
      "\n",
      "See the caveats in the documentation: http://pandas.pydata.org/pandas-docs/stable/indexing.html#indexing-view-versus-copy\n",
      "  self._where(-key, value, inplace=True)\n",
      "/Users/tamirlan/anaconda2/lib/python2.7/site-packages/ipykernel_launcher.py:2: SettingWithCopyWarning: \n",
      "A value is trying to be set on a copy of a slice from a DataFrame.\n",
      "Try using .loc[row_indexer,col_indexer] = value instead\n",
      "\n",
      "See the caveats in the documentation: http://pandas.pydata.org/pandas-docs/stable/indexing.html#indexing-view-versus-copy\n",
      "  \n"
     ]
    },
    {
     "data": {
      "text/plain": [
       "<matplotlib.text.Text at 0x11440cbd0>"
      ]
     },
     "execution_count": 7,
     "metadata": {},
     "output_type": "execute_result"
    },
    {
     "data": {
      "image/png": "[encoded data removed]",
      "text/plain": [
       "<matplotlib.figure.Figure at 0x10f3fecd0>"
      ]
     },
     "metadata": {},
     "output_type": "display_data"
    }
   ],
   "source": [
    "test_images[test_images>0]=1\n",
    "train_images[train_images>0]=1\n",
    "\n",
    "img=train_images.iloc[i].as_matrix().reshape((28,28))\n",
    "plt.imshow(img,cmap='binary')\n",
    "plt.title(train_labels.iloc[i])"
   ]
  },
  {
   "cell_type": "code",
   "execution_count": 8,
   "metadata": {
    "_cell_guid": "edbe1d68-3224-1bf4-b571-a3bd845c3de5",
    "_uuid": "3a76f936221119be8c3602910bf364192744e896"
   },
   "outputs": [
    {
     "data": {
      "text/plain": [
       "(array([ 631.,    0.,    0.,    0.,    0.,    0.,    0.,    0.,    0.,  153.]),\n",
       " array([ 0. ,  0.1,  0.2,  0.3,  0.4,  0.5,  0.6,  0.7,  0.8,  0.9,  1. ]),\n",
       " <a list of 10 Patch objects>)"
      ]
     },
     "execution_count": 8,
     "metadata": {},
     "output_type": "execute_result"
    },
    {
     "data": {
      "image/png": "[encoded data removed]",
      "text/plain": [
       "<matplotlib.figure.Figure at 0x11c928750>"
      ]
     },
     "metadata": {},
     "output_type": "display_data"
    }
   ],
   "source": [
    "plt.hist(train_images.iloc[i])"
   ]
  },
  {
   "cell_type": "markdown",
   "metadata": {
    "_cell_guid": "785c75aa-06f7-fce3-b690-038356d4a51c",
    "_uuid": "ed31c90adc4d5c1429e85fd2242f2a202eaa7327"
   },
   "source": [
    "## Retraining our model\n",
    "### We follow the same procedure as before, but now our training and test sets are black and white instead of gray-scale. Our score still isn't great, but it's a huge improvement."
   ]
  },
  {
   "cell_type": "code",
   "execution_count": 9,
   "metadata": {
    "_cell_guid": "6f0355ef-d019-c814-11ff-795f81d041f1",
    "_uuid": "32a19b0bd75b19143aced0659818f5708fd4b74f"
   },
   "outputs": [
    {
     "data": {
      "text/plain": [
       "0.94285714285714284"
      ]
     },
     "execution_count": 9,
     "metadata": {},
     "output_type": "execute_result"
    }
   ],
   "source": [
    "clf = svm.SVC()\n",
    "clf.fit(train_images, train_labels.values.ravel())\n",
    "clf.score(test_images,test_labels)"
   ]
  },
  {
   "cell_type": "markdown",
   "metadata": {
    "_cell_guid": "7ca53ece-d50a-efe5-d242-dea8d089244b",
    "_uuid": "e6adb29b6b62e46823118a0e64d0835004ac565d"
   },
   "source": [
    "## Labelling the test data\n",
    "### Now for those making competition submissions, we can load and predict the unlabeled data from test.csv. Again, for time we're just using the first 5000 images. We then output this data to a results.csv for competition submission."
   ]
  },
  {
   "cell_type": "code",
   "execution_count": 10,
   "metadata": {
    "_cell_guid": "8fa0b0aa-1bf3-dcd3-6ef2-fae5ccda55b3",
    "_uuid": "3b59ced632e1f5fa96778a9ba09ca59860cc2746",
    "collapsed": true
   },
   "outputs": [],
   "source": [
    "test_data=pd.read_csv('../input/test.csv')\n",
    "test_data[test_data>0]=1\n",
    "results=clf.predict(test_data) #[0:5000]"
   ]
  },
  {
   "cell_type": "code",
   "execution_count": 11,
   "metadata": {
    "_cell_guid": "aa6f3fd3-8ff6-80b4-68ae-261172ebe580",
    "_uuid": "ffff6bb274955cee4ba5b543df5251e456d18258"
   },
   "outputs": [
    {
     "data": {
      "text/plain": [
       "array([2, 0, 9, ..., 3, 9, 2])"
      ]
     },
     "execution_count": 11,
     "metadata": {},
     "output_type": "execute_result"
    }
   ],
   "source": [
    "results"
   ]
  },
  {
   "cell_type": "code",
   "execution_count": 18,
   "metadata": {
    "_cell_guid": "28ec8d56-d3f6-573d-2230-bc5a410868c6",
    "_uuid": "678c47585bacf12fb5a7d139f60f753cbdd6e7d3",
    "collapsed": true
   },
   "outputs": [],
   "source": [
    "df = pd.DataFrame(results)\n",
    "df.index+=1\n",
    "df.reset_index(inplace=True)\n",
    "df.columns=['ImageId', 'Label']\n",
    "df.to_csv('../submission/Model1_SVM_results.csv', index=None, header=True)"
   ]
  },
  {
   "cell_type": "code",
   "execution_count": 19,
   "metadata": {
    "_cell_guid": "097e0f0a-246c-2f96-cd2d-b5cd75f26a65",
    "_uuid": "5ad71765dd72c09d10de6c13090caf261eb00358"
   },
   "outputs": [
    {
     "data": {
      "text/html": [
       "<div>\n",
       "<style>\n",
       "    .dataframe thead tr:only-child th {\n",
       "        text-align: right;\n",
       "    }\n",
       "\n",
       "    .dataframe thead th {\n",
       "        text-align: left;\n",
       "    }\n",
       "\n",
       "    .dataframe tbody tr th {\n",
       "        vertical-align: top;\n",
       "    }\n",
       "</style>\n",
       "<table border=\"1\" class=\"dataframe\">\n",
       "  <thead>\n",
       "    <tr style=\"text-align: right;\">\n",
       "      <th></th>\n",
       "      <th>ImageId</th>\n",
       "      <th>Label</th>\n",
       "    </tr>\n",
       "  </thead>\n",
       "  <tbody>\n",
       "    <tr>\n",
       "      <th>0</th>\n",
       "      <td>1</td>\n",
       "      <td>2</td>\n",
       "    </tr>\n",
       "    <tr>\n",
       "      <th>1</th>\n",
       "      <td>2</td>\n",
       "      <td>0</td>\n",
       "    </tr>\n",
       "    <tr>\n",
       "      <th>2</th>\n",
       "      <td>3</td>\n",
       "      <td>9</td>\n",
       "    </tr>\n",
       "    <tr>\n",
       "      <th>3</th>\n",
       "      <td>4</td>\n",
       "      <td>9</td>\n",
       "    </tr>\n",
       "    <tr>\n",
       "      <th>4</th>\n",
       "      <td>5</td>\n",
       "      <td>3</td>\n",
       "    </tr>\n",
       "  </tbody>\n",
       "</table>\n",
       "</div>"
      ],
      "text/plain": [
       "   ImageId  Label\n",
       "0        1      2\n",
       "1        2      0\n",
       "2        3      9\n",
       "3        4      9\n",
       "4        5      3"
      ]
     },
     "execution_count": 19,
     "metadata": {},
     "output_type": "execute_result"
    }
   ],
   "source": [
    "df.head()"
   ]
  },
  {
   "cell_type": "code",
   "execution_count": null,
   "metadata": {
    "collapsed": true
   },
   "outputs": [],
   "source": []
  }
 ],
 "metadata": {
  "_change_revision": 0,
  "_is_fork": false,
  "kernelspec": {
   "display_name": "Python 2",
   "language": "python",
   "name": "python2"
  },
  "language_info": {
   "codemirror_mode": {
    "name": "ipython",
    "version": 2
   },
   "file_extension": ".py",
   "mimetype": "text/x-python",
   "name": "python",
   "nbconvert_exporter": "python",
   "pygments_lexer": "ipython2",
   "version": "2.7.13"
  }
 },
 "nbformat": 4,
 "nbformat_minor": 1
}
